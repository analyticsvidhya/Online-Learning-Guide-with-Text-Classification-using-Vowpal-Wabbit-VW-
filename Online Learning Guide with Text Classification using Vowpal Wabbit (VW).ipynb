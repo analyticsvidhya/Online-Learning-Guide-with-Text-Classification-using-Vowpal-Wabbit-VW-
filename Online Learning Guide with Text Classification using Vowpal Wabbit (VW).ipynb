{
 "cells": [
  {
   "cell_type": "code",
   "execution_count": null,
   "metadata": {},
   "outputs": [],
   "source": [
    "import os\n",
    "import numpy as np\n",
    "import re\n",
    "from sklearn.datasets import load_files\n",
    "from sklearn.metrics import accuracy_score, roc_auc_score\n",
    "\n",
    "# Read the train Data\n",
    "path_to_movies = os.path.expanduser('/home/analyticsvidhya/IMDB/')\n",
    "reviews_train = load_files(os.path.join(path_to_movies, 'train'))\n",
    "text_train, y_train = reviews_train.data, reviews_train.target"
   ]
  },
  {
   "cell_type": "code",
   "execution_count": null,
   "metadata": {},
   "outputs": [],
   "source": [
    "def to_vw_format(document, label=None):\n",
    "      return str(label or '') + ' |text ' + ' '.join(re.findall('\\w{3,}', document.lower())) + '\\n'\n",
    "to_vw_format(str(text_train[1]), 1 if y_train[0] == 1 else -1)\n",
    "\n",
    "\n",
    "# Splitting train data to train and validation sets\n",
    "train_size = int(0.7 * len(text_train))\n",
    "train, train_labels = text_train[:train_size], y_train[:train_share]\n",
    "valid, valid_labels = text_train[train_size:], y_train[train_share:]\n",
    "\n",
    "# Convert and save in vowpal wabbit format\n",
    "with open('movie_reviews_train.vw', 'w') as vw_train_data:\n",
    "   for text, target in zip(train, train_labels):\n",
    "   vw_train_data.write(to_vw_format(str(text), 1 if target == 1 else -1))\n",
    "with open('movie_reviews_valid.vw', 'w') as vw_train_data:\n",
    "   for text, target in zip(valid, valid_labels):\n",
    "   vw_train_data.write(to_vw_format(str(text), 1 if target == 1 else -1))"
   ]
  },
  {
   "cell_type": "markdown",
   "metadata": {},
   "source": [
    "## Training "
   ]
  },
  {
   "cell_type": "code",
   "execution_count": null,
   "metadata": {},
   "outputs": [],
   "source": [
    "# Fitting a logistic regression for predicting the sentiment of a review\n",
    "!vw -d movie_reviews_train.vw --loss_function logistic -f movie_reviews_model.vw"
   ]
  },
  {
   "cell_type": "markdown",
   "metadata": {},
   "source": [
    "## Testing "
   ]
  },
  {
   "cell_type": "code",
   "execution_count": null,
   "metadata": {},
   "outputs": [],
   "source": [
    "!vw -i movie_reviews_model.vw -t -d movie_reviews_valid.vw -p movie_valid_pred.txt --quiet"
   ]
  },
  {
   "cell_type": "code",
   "execution_count": null,
   "metadata": {},
   "outputs": [],
   "source": [
    "with open('movie_valid_pred.txt') as pred_file:\n",
    "     valid_prediction = [float(label) for label in pred_file.readlines()]\n",
    "     print(\"Accuracy: {}\".format(round(accuracy_score(valid_labels, [int(pred_prob > 0) for pred_prob in valid_prediction]), 5)))\n",
    "     print(\"AUC: {}\".format(round(roc_auc_score(valid_labels, valid_prediction), 5)))"
   ]
  },
  {
   "cell_type": "code",
   "execution_count": null,
   "metadata": {},
   "outputs": [],
   "source": [
    "!vw -d movie_reviews_train.vw --loss_function logistic --ngram 2 -f movie_reviews_model_bigram.vw --quiet"
   ]
  },
  {
   "cell_type": "markdown",
   "metadata": {},
   "source": [
    "## Model interpretability "
   ]
  },
  {
   "cell_type": "code",
   "execution_count": null,
   "metadata": {},
   "outputs": [],
   "source": [
    "!vw -d movie_reviews_train.vw --loss_function logistic --ngram 2 --invert_hash movie_reviews_readable_model_bigram.vw"
   ]
  },
  {
   "cell_type": "markdown",
   "metadata": {},
   "source": [
    "## Regularization"
   ]
  },
  {
   "cell_type": "code",
   "execution_count": null,
   "metadata": {},
   "outputs": [],
   "source": [
    "!vw -d movie_reviews_train.vw --l1 0.00005 --l2 0.00005 --loss_function logistic --ngram 2 -f movie_reviews_model_bigram.vw"
   ]
  },
  {
   "cell_type": "code",
   "execution_count": null,
   "metadata": {},
   "outputs": [],
   "source": []
  },
  {
   "cell_type": "code",
   "execution_count": null,
   "metadata": {},
   "outputs": [],
   "source": []
  }
 ],
 "metadata": {
  "kernelspec": {
   "display_name": "Python 3",
   "language": "python",
   "name": "python3"
  },
  "language_info": {
   "codemirror_mode": {
    "name": "ipython",
    "version": 3
   },
   "file_extension": ".py",
   "mimetype": "text/x-python",
   "name": "python",
   "nbconvert_exporter": "python",
   "pygments_lexer": "ipython3",
   "version": "3.7.3"
  }
 },
 "nbformat": 4,
 "nbformat_minor": 2
}
